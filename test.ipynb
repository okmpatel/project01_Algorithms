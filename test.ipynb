{
 "cells": [
  {
   "cell_type": "code",
   "execution_count": null,
   "metadata": {},
   "outputs": [],
   "source": [
    "import random\n",
    "\n",
    "def mod_exp(base, exp, mod):\n",
    "    result = 1\n",
    "    while exp > 0:\n",
    "        if exp % 2 == 1:\n",
    "            result = (result * base) % mod\n",
    "        base = (base * base) % mod\n",
    "        exp //= 2\n",
    "    return result\n",
    "\n",
    "def is_prime_fermat(n, k=2):\n",
    "    if n < 2:\n",
    "        return False\n",
    "    for _ in range(k):\n",
    "        a = random.randint(2, n - 2)\n",
    "        if mod_exp(a, n - 1, n) != 1:\n",
    "            return False\n",
    "    return True\n",
    "\n",
    "def generate_large_prime():\n",
    "    while True:\n",
    "        candidate = random.getrandbits(random.randint(128, 255)) | 1  # Ensure odd number\n",
    "        if is_prime_fermat(candidate):\n",
    "            return candidate\n",
    "\n",
    "p = generate_large_prime()\n",
    "q = generate_large_prime()\n",
    "\n",
    "with open(\"p_qtesting.txt\", \"w\") as f:\n",
    "    f.write(f\"{p}\\n{q}\")\n"
   ]
  }
 ],
 "metadata": {
  "kernelspec": {
   "display_name": ".venv",
   "language": "python",
   "name": "python3"
  },
  "language_info": {
   "codemirror_mode": {
    "name": "ipython",
    "version": 3
   },
   "file_extension": ".py",
   "mimetype": "text/x-python",
   "name": "python",
   "nbconvert_exporter": "python",
   "pygments_lexer": "ipython3",
   "version": "3.12.3"
  }
 },
 "nbformat": 4,
 "nbformat_minor": 2
}
