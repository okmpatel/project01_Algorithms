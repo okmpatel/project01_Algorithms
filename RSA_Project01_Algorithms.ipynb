{
 "cells": [
  {
   "cell_type": "code",
   "execution_count": 717,
   "metadata": {},
   "outputs": [],
   "source": [
    "# Project 1 -RSA & Digital signature\n",
    "# Proferssor: Dr.Zhong-Hui Duan\n",
    "# Student: Om Patel\n",
    "# Email: op20@uakron.edu"
   ]
  },
  {
   "cell_type": "code",
   "execution_count": 718,
   "metadata": {},
   "outputs": [],
   "source": [
    "# all of the libraries that are needed\n",
    "import random\n",
    "import math\n",
    "import hashlib"
   ]
  },
  {
   "cell_type": "code",
   "execution_count": 719,
   "metadata": {},
   "outputs": [],
   "source": [
    "# use the iterative method to make calculations faster\n",
    "def modularExponentiation(base, exponent, modulus):\n",
    "    result = 1\n",
    "    base = base % modulus\n",
    "    # runs until the exponent is 0\n",
    "    while (exponent > 0):\n",
    "        # if the exponent is odd, multiply the base with the result\n",
    "        if ((exponent % 2) == 1):\n",
    "            result = (result * base) % modulus\n",
    "        exponent = exponent // 2\n",
    "        base = (base * base) % modulus\n",
    "    return result"
   ]
  },
  {
   "cell_type": "code",
   "execution_count": 720,
   "metadata": {},
   "outputs": [],
   "source": [
    "def pickRandomPrime ():\n",
    "    # get the random prime number between 128 bits and 225 bits\n",
    "    smallValue = pow(2,127)\n",
    "    largeValue = pow(2, 225 -1)\n",
    "    while (True):\n",
    "        prime = random.randint(smallValue, largeValue)\n",
    "        if (fermatTest(prime)):\n",
    "            return prime\n",
    "\n"
   ]
  },
  {
   "cell_type": "code",
   "execution_count": 721,
   "metadata": {},
   "outputs": [],
   "source": [
    "# Fermat's primality test to check if a number is prime\n",
    "def fermatTest (prime):\n",
    "    if (prime < 2):\n",
    "        return False\n",
    "    ## check 2 time\n",
    "    for i in range(2):\n",
    "        a = random.randint(1, prime - 1)\n",
    "        if (modularExponentiation(a, prime - 1, prime) != 1):\n",
    "            return False\n",
    "    return True"
   ]
  },
  {
   "cell_type": "code",
   "execution_count": 722,
   "metadata": {},
   "outputs": [],
   "source": [
    "# extended euclidean algorithm use recursion to find the gcd\n",
    "def extendedGCD(e, phi):\n",
    "    # if e is 0 then phi is the gcd\n",
    "    if (e == 0):\n",
    "        return phi, 0, 1\n",
    "                # recursively call extendedGCD unit the base case\n",
    "    gcd, x1, y1 = extendedGCD(phi % e, e)\n",
    "    x = y1 - (phi // e) * x1\n",
    "    y = x1\n",
    "    return gcd, x, y"
   ]
  },
  {
   "cell_type": "code",
   "execution_count": 723,
   "metadata": {},
   "outputs": [],
   "source": [
    "# use the extended euclidean algorithm to find the modular inverse\n",
    "def modularInverse(e, phi):\n",
    "    #gets the gsd rom extendedGCD\n",
    "    gcd, x, y = extendedGCD(e, phi)\n",
    "    if (gcd != 1):\n",
    "        print(\"ERROR: In modularInverse()\")\n",
    "    else:\n",
    "        return x % phi\n"
   ]
  },
  {
   "cell_type": "code",
   "execution_count": 724,
   "metadata": {},
   "outputs": [],
   "source": [
    "#generate the two keys\n",
    "def RSA_key_generation():\n",
    "    # prime numbers\n",
    "    p = pickRandomPrime()\n",
    "    q = pickRandomPrime()\n",
    "\n",
    "    #n and phi calculation\n",
    "    n = p * q\n",
    "    phi = (p - 1) * (q - 1)\n",
    "\n",
    "    #calculate e and keeps running until gcd =1\n",
    "    while (True):\n",
    "        e = random.randint(2, phi - 1)\n",
    "        if (math.gcd(e, phi) == 1):\n",
    "            break\n",
    "    #calculate d \n",
    "    d = modularInverse(e, phi)\n",
    "\n",
    "    # Open a file in write mode ('w') and save the integer\n",
    "    with open('p_q.txt', 'w') as file:\n",
    "        file.write(f\"{p}\\n\")  # save p\n",
    "        file.write(f\"{q}\")  # save p\n",
    "\n",
    "    #write the public and private keys to a file\n",
    "    with open(\"e_n.txt\", \"w\") as f:\n",
    "        f.write(f\"{e}\\n{n}\")\n",
    "    with open(\"d_n.txt\", \"w\") as f:\n",
    "        f.write(f\"{d}\\n{n}\")\n",
    "\n",
    "    print(\"done with key generation!\")\n",
    "\n"
   ]
  },
  {
   "cell_type": "code",
   "execution_count": 725,
   "metadata": {},
   "outputs": [],
   "source": [
    "# Read keys from file\n",
    "def readKey(filename):\n",
    "    with open(filename, \"r\") as f:\n",
    "        # reads the line from the file and converts it to a int\n",
    "        key = [int(line.strip()) for line in f.readlines()]\n",
    "    return key[0], key[1]"
   ]
  },
  {
   "cell_type": "code",
   "execution_count": 726,
   "metadata": {},
   "outputs": [],
   "source": [
    "# Signing function\n",
    "def Signing(doc, key):\n",
    "    # Read private key \n",
    "    d, n = readKey(key)\n",
    "    \n",
    "    with open(doc, \"rb\") as f:\n",
    "        content = f.read()\n",
    "    \n",
    "    # Generate SHA-256 hash in bytes\n",
    "    fileHash = hashlib.sha256(content).digest()\n",
    "\n",
    "    # Sign the hash wiht key\n",
    "    signature = modularExponentiation(int.from_bytes(fileHash), d, n)\n",
    "    \n",
    "    # Save new signed file\n",
    "    with open(doc + \".signed\", \"wb\") as f:\n",
    "        f.write(content)\n",
    "        f.write(signature.to_bytes((signature.bit_length() + 7) // 8, 'big'))\n",
    "    \n",
    "    print(\"\\nSigned...\")"
   ]
  },
  {
   "cell_type": "code",
   "execution_count": 727,
   "metadata": {},
   "outputs": [],
   "source": [
    "# Verification function\n",
    "def verification(doc, key):\n",
    "    # Read public key\n",
    "    e, n = readKey(key)\n",
    "    \n",
    "    with open(doc, \"rb\") as f:\n",
    "        content = f.read()\n",
    "    \n",
    "    # Separate the original content and the signature\n",
    "    signatureSize = (n.bit_length() + 7) // 8\n",
    "    #  get original content the last 256 bits\n",
    "    originalContent = content[:-signatureSize]\n",
    "    # convert the signature to a int\n",
    "    signature = int.from_bytes(content[-signatureSize:])\n",
    "    \n",
    "    # Generate SHA-256 hash of the original content\n",
    "    newHashValue = hashlib.sha256(originalContent).digest()\n",
    "    \n",
    "    # Verify the signature with public key\n",
    "    decryptedHash = modularExponentiation(signature, e, n).to_bytes(len(newHashValue))\n",
    "    \n",
    "    if (decryptedHash == newHashValue):\n",
    "        print(\"\\nAuthentic!\")\n",
    "    else:\n",
    "        print(\"\\nModified!\")"
   ]
  },
  {
   "cell_type": "code",
   "execution_count": 728,
   "metadata": {},
   "outputs": [],
   "source": [
    "# Main function to handle signing and verification\n",
    "def CPSC_435_Project1(part, task=\"\", fileName=\"\"):\n",
    "    if part == 1:\n",
    "        RSA_key_generation()\n",
    "    else:\n",
    "        if \"s\" in task:  # Signing\n",
    "            Signing(fileName, \"d_n.txt\")\n",
    "        else:  # Verification\n",
    "            verification(fileName, \"e_n.txt\")\n",
    "    print(\"done!\")\n"
   ]
  },
  {
   "cell_type": "code",
   "execution_count": 729,
   "metadata": {},
   "outputs": [
    {
     "name": "stdout",
     "output_type": "stream",
     "text": [
      "done with key generation!\n",
      "done!\n"
     ]
    }
   ],
   "source": [
    "CPSC_435_Project1(1)"
   ]
  },
  {
   "cell_type": "code",
   "execution_count": 730,
   "metadata": {},
   "outputs": [
    {
     "name": "stdout",
     "output_type": "stream",
     "text": [
      "\n",
      "Signed...\n",
      "done!\n"
     ]
    }
   ],
   "source": [
    "docName = \"testfile.txt\"\n",
    "CPSC_435_Project1(2, \"s\", docName)"
   ]
  },
  {
   "cell_type": "code",
   "execution_count": 731,
   "metadata": {},
   "outputs": [
    {
     "name": "stdout",
     "output_type": "stream",
     "text": [
      "\n",
      "Authentic!\n",
      "done!\n"
     ]
    }
   ],
   "source": [
    "docName = \"testfile.txt.signed\"\n",
    "CPSC_435_Project1(2, \"v\", docName)"
   ]
  }
 ],
 "metadata": {
  "kernelspec": {
   "display_name": ".venv",
   "language": "python",
   "name": "python3"
  },
  "language_info": {
   "codemirror_mode": {
    "name": "ipython",
    "version": 3
   },
   "file_extension": ".py",
   "mimetype": "text/x-python",
   "name": "python",
   "nbconvert_exporter": "python",
   "pygments_lexer": "ipython3",
   "version": "3.12.3"
  }
 },
 "nbformat": 4,
 "nbformat_minor": 2
}
