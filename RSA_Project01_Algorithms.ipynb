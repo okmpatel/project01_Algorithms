{
 "cells": [
  {
   "cell_type": "code",
   "execution_count": 8,
   "metadata": {},
   "outputs": [],
   "source": [
    "import pandas as pd\n",
    "import numpy as np\n",
    "import random"
   ]
  },
  {
   "cell_type": "code",
   "execution_count": 9,
   "metadata": {},
   "outputs": [],
   "source": [
    "def modularExponentiation(base, exponent, modulus):\n",
    "    result = 1\n",
    "    base = base % modulus\n",
    "    while (exponent > 0):\n",
    "        if ((exponent % 2) == 1):  # If exponent is odd\n",
    "            result = (result * base) % modulus\n",
    "        exponent = exponent >> 1  # Divide exponent by 2\n",
    "        base = (base * base) % modulus\n",
    "    return result"
   ]
  },
  {
   "cell_type": "code",
   "execution_count": 10,
   "metadata": {},
   "outputs": [
    {
     "ename": "SyntaxError",
     "evalue": "invalid syntax. Maybe you meant '==' or ':=' instead of '='? (549345468.py, line 6)",
     "output_type": "error",
     "traceback": [
      "\u001b[0;36m  Cell \u001b[0;32mIn[10], line 6\u001b[0;36m\u001b[0m\n\u001b[0;31m    prime = random.randint(smallValue, largeValue)\u001b[0m\n\u001b[0m    ^\u001b[0m\n\u001b[0;31mSyntaxError\u001b[0m\u001b[0;31m:\u001b[0m invalid syntax. Maybe you meant '==' or ':=' instead of '='?\n"
     ]
    }
   ],
   "source": [
    "def pickRandomNumber ():\n",
    "    smallValue = pow(2,127)\n",
    "    largeValue = pow(2, 225 -1)\n",
    "    prime = 0\n",
    "    do {\n",
    "        prime = random.randint(smallValue, largeValue)\n",
    "    }while (prime % 2 == 0)\n",
    "\n",
    "    print(prime)\n"
   ]
  },
  {
   "cell_type": "code",
   "execution_count": null,
   "metadata": {},
   "outputs": [],
   "source": [
    "def fermatTest (prime):\n",
    "    a = random.randint(1,prime)\n",
    "    temp = pow(a,prime-1)\n",
    "    check = temp % prime\n",
    "\n",
    "    # check if a^(p-1) mod p == 1; return 0 if true, 1 if false\n",
    "    if (check == 1):\n",
    "        return 0\n",
    "    else:\n",
    "        return 1"
   ]
  },
  {
   "cell_type": "code",
   "execution_count": null,
   "metadata": {},
   "outputs": [],
   "source": [
    "pickRandomNumber()\n"
   ]
  }
 ],
 "metadata": {
  "kernelspec": {
   "display_name": ".venv",
   "language": "python",
   "name": "python3"
  },
  "language_info": {
   "codemirror_mode": {
    "name": "ipython",
    "version": 3
   },
   "file_extension": ".py",
   "mimetype": "text/x-python",
   "name": "python",
   "nbconvert_exporter": "python",
   "pygments_lexer": "ipython3",
   "version": "3.12.3"
  }
 },
 "nbformat": 4,
 "nbformat_minor": 2
}
