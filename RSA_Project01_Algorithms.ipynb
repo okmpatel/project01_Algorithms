{
 "cells": [
  {
   "cell_type": "code",
   "execution_count": 56,
   "metadata": {},
   "outputs": [],
   "source": [
    "import random\n",
    "\n",
    "def pickRandomNumber ():\n",
    "    smallValue = pow(2,127)\n",
    "    largeValue = pow(2, 225 -1)\n",
    "    prime = random.randint(smallValue, largeValue)\n",
    "    return prime\n"
   ]
  },
  {
   "cell_type": "code",
   "execution_count": 57,
   "metadata": {},
   "outputs": [],
   "source": [
    "def fermatTest (prime):\n",
    "    a = random.randint(1,prime)\n",
    "    temp = pow(a,prime-1)\n",
    "    check = temp % prime\n",
    "\n",
    "    # check if a^(p-1) mod p == 1; return 0 if true, 1 if false\n",
    "    if (check == 1):\n",
    "        return 0\n",
    "    else:\n",
    "        return 1"
   ]
  },
  {
   "cell_type": "code",
   "execution_count": 58,
   "metadata": {},
   "outputs": [
    {
     "ename": "KeyboardInterrupt",
     "evalue": "",
     "output_type": "error",
     "traceback": [
      "\u001b[0;31m---------------------------------------------------------------------------\u001b[0m",
      "\u001b[0;31mKeyboardInterrupt\u001b[0m                         Traceback (most recent call last)",
      "Cell \u001b[0;32mIn[58], line 2\u001b[0m\n\u001b[1;32m      1\u001b[0m x \u001b[38;5;241m=\u001b[39m pickRandomNumber()\n\u001b[0;32m----> 2\u001b[0m \u001b[43mfermatTest\u001b[49m\u001b[43m(\u001b[49m\u001b[43mx\u001b[49m\u001b[43m)\u001b[49m\n",
      "Cell \u001b[0;32mIn[57], line 3\u001b[0m, in \u001b[0;36mfermatTest\u001b[0;34m(prime)\u001b[0m\n\u001b[1;32m      1\u001b[0m \u001b[38;5;28;01mdef\u001b[39;00m\u001b[38;5;250m \u001b[39m\u001b[38;5;21mfermatTest\u001b[39m (prime):\n\u001b[1;32m      2\u001b[0m     a \u001b[38;5;241m=\u001b[39m random\u001b[38;5;241m.\u001b[39mrandint(\u001b[38;5;241m1\u001b[39m,prime)\n\u001b[0;32m----> 3\u001b[0m     temp \u001b[38;5;241m=\u001b[39m \u001b[38;5;28;43mpow\u001b[39;49m\u001b[43m(\u001b[49m\u001b[43ma\u001b[49m\u001b[43m,\u001b[49m\u001b[43mprime\u001b[49m\u001b[38;5;241;43m-\u001b[39;49m\u001b[38;5;241;43m1\u001b[39;49m\u001b[43m)\u001b[49m\n\u001b[1;32m      4\u001b[0m     check \u001b[38;5;241m=\u001b[39m temp \u001b[38;5;241m%\u001b[39m prime\n\u001b[1;32m      6\u001b[0m     \u001b[38;5;66;03m# check if a^(p-1) mod p == 1; return 0 if true, 1 if false\u001b[39;00m\n",
      "\u001b[0;31mKeyboardInterrupt\u001b[0m: "
     ]
    }
   ],
   "source": [
    "x = pickRandomNumber()\n",
    "fermatTest(x)"
   ]
  }
 ],
 "metadata": {
  "kernelspec": {
   "display_name": ".venv",
   "language": "python",
   "name": "python3"
  },
  "language_info": {
   "codemirror_mode": {
    "name": "ipython",
    "version": 3
   },
   "file_extension": ".py",
   "mimetype": "text/x-python",
   "name": "python",
   "nbconvert_exporter": "python",
   "pygments_lexer": "ipython3",
   "version": "3.12.3"
  }
 },
 "nbformat": 4,
 "nbformat_minor": 2
}
