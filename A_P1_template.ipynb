{
 "cells": [
  {
   "cell_type": "code",
   "execution_count": null,
   "id": "e36dcd2d-58f7-418f-85b1-140943187176",
   "metadata": {},
   "outputs": [],
   "source": [
    "# Algorithms Project 1 - RSA\n",
    "# Objective: implement RSA Encryption and apply it to digital signature\n",
    "import pandas as pd\n",
    "import numpy as np"
   ]
  },
  {
   "cell_type": "code",
   "execution_count": null,
   "id": "9a5901aa",
   "metadata": {},
   "outputs": [],
   "source": [
    "# this is the library you need\n",
    "import hashlib\n",
    "print(hashlib.algorithms_guaranteed)"
   ]
  },
  {
   "cell_type": "code",
   "execution_count": null,
   "id": "f7560448",
   "metadata": {},
   "outputs": [],
   "source": [
    "h = hashlib.sha256(b'computer science at UA is the best')\n",
    "m = h.hexdigest()\n",
    "print(m)"
   ]
  },
  {
   "cell_type": "code",
   "execution_count": null,
   "id": "5aad74bb-e8d1-4dfa-9d99-e613f09e6fd4",
   "metadata": {},
   "outputs": [],
   "source": [
    "# check if p is prime (most likely a prime)\n",
    "def FermatPrimalityTest(p):\n",
    "    print(p)\n",
    "    a = False\n",
    "    # to be completed\n",
    "    return a"
   ]
  },
  {
   "cell_type": "code",
   "execution_count": null,
   "id": "2deedac9-9cea-41f1-9828-c130a4e16514",
   "metadata": {},
   "outputs": [],
   "source": [
    "# you need to modify this function to generate the two pairs of keys\n",
    "def RSA_key_generation():\n",
    "    # the following is just an example of a few numbers and how to save your key\n",
    "    p = 7\n",
    "    q = 13\n",
    "    n = p*q\n",
    "    e = 3\n",
    "    d = 5\n",
    "    # Open a file in write mode ('w') and save the integer\n",
    "    with open('p_q.txt', 'w') as file:\n",
    "        file.write(f\"{p}\\n\")  # save p\n",
    "        file.write(f\"{q}\")  # save p\n",
    "    \n",
    "    #...\n",
    "    print(\"done with key generation!\")\n",
    "    return"
   ]
  },
  {
   "cell_type": "code",
   "execution_count": null,
   "id": "09c58fcc-cd38-4b0a-9f5a-7dfc25f3b48a",
   "metadata": {},
   "outputs": [],
   "source": [
    "\n",
    "def Signing(doc, key):\n",
    "    match = False\n",
    "    # ...\n",
    "    print(\"\\nSigned ...\")\n",
    "    \n",
    "    return"
   ]
  },
  {
   "cell_type": "code",
   "execution_count": null,
   "id": "86f89054",
   "metadata": {},
   "outputs": [],
   "source": [
    "# to be complete\n",
    "def verification(doc, key):\n",
    "    match = False\n",
    "    # ...\n",
    "    if match:\n",
    "        print(\"\\nAuthentic!\")\n",
    "    else:\n",
    "        print(\"\\nModified!\")\n",
    "    \n",
    "    return"
   ]
  },
  {
   "cell_type": "code",
   "execution_count": null,
   "id": "94027d27-af12-4c35-bd39-8bdbbae90e1e",
   "metadata": {},
   "outputs": [],
   "source": [
    "# No need to change the main function.\n",
    "# \n",
    "def CPSC_435_Project1(part, task=\"\", fileName=\"\"):\n",
    "    # part I, command-line arguments will be: python yourProgram.py 1\n",
    "    if part == 1:\n",
    "        RSA_key_generation()\n",
    "    # part II, command-line will be for example: python yourProgram.py 2 s file.txt\n",
    "    #                                       or   python yourProgram.py 2 v file.txt.signed\n",
    "    else:\n",
    "        if \"s\" in task:  # do signing\n",
    "            doc = None   # you figure out\n",
    "            key = None   # you figure out\n",
    "            Signing(doc, key)\n",
    "        else:\n",
    "            # do verification\n",
    "            doc = None   # you figure out\n",
    "            key = None   # you figure out\n",
    "            verification(doc, key)\n",
    "\n",
    "    print(\"done!\")\n",
    "    \n",
    "    return"
   ]
  },
  {
   "cell_type": "code",
   "execution_count": null,
   "id": "99c86a89",
   "metadata": {},
   "outputs": [],
   "source": [
    "# when we grade your part 1 - RSA_key_generation\n",
    "CPSC_435_Project1(1)"
   ]
  },
  {
   "cell_type": "code",
   "execution_count": null,
   "id": "67e5072c",
   "metadata": {},
   "outputs": [],
   "source": [
    "# when we grade your part 2a - signing\n",
    "docName = \"contract.txt\" # the fileName is just an example\n",
    "CPSC_435_Project1(2, \"s\", docName)"
   ]
  },
  {
   "cell_type": "code",
   "execution_count": null,
   "id": "0bdca429",
   "metadata": {},
   "outputs": [],
   "source": [
    "# when we grade your part 2b - verification\n",
    "docName = \"contract.txt.signed\" # the fileName is just an example\n",
    "CPSC_435_Project1(2, \"v\", docName)"
   ]
  },
  {
   "cell_type": "code",
   "execution_count": null,
   "id": "4d34845f",
   "metadata": {},
   "outputs": [],
   "source": []
  }
 ],
 "metadata": {
  "kernelspec": {
   "display_name": ".venv",
   "language": "python",
   "name": "python3"
  },
  "language_info": {
   "codemirror_mode": {
    "name": "ipython",
    "version": 3
   },
   "file_extension": ".py",
   "mimetype": "text/x-python",
   "name": "python",
   "nbconvert_exporter": "python",
   "pygments_lexer": "ipython3",
   "version": "3.12.3"
  }
 },
 "nbformat": 4,
 "nbformat_minor": 5
}
